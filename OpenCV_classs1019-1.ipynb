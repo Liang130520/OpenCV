{
  "cells": [
    {
      "cell_type": "markdown",
      "metadata": {
        "id": "view-in-github",
        "colab_type": "text"
      },
      "source": [
        "<a href=\"https://colab.research.google.com/github/Liang130520/OpenCV-class1019/blob/main/OpenCV_classs1019-1.ipynb\" target=\"_parent\"><img src=\"https://colab.research.google.com/assets/colab-badge.svg\" alt=\"Open In Colab\"/></a>"
      ]
    },
    {
      "cell_type": "code",
      "execution_count": null,
      "metadata": {
        "id": "pIuY-u_tuQBN"
      },
      "outputs": [],
      "source": [
        "import cv2\n",
        "import numpy as np\n",
        "import IPython.display as dp\n",
        "from google.colab.patches import cv2_imshow\n",
        "from PIL import ImageFont, ImageDraw, Image\n",
        "import time\n",
        "\n",
        "pic = cv2.imread(\"h2.png\", -1)\n",
        "print(pic.shape[0]) # 612\n",
        "print(pic.shape[1]) # 1087\n",
        "# 結果圖像=cv2.absdiff(圖像變數一, 圖像變數二)\n",
        "pic1 = cv2.add(pic, (255,220,255,0)) # 第四維度:透明度通常用不到\n",
        "cv2_imshow(pic1)\n",
        "\n",
        "# 接著做切割動作\n",
        "# 再改字體顏色\n",
        "# 加上白色底圖"
      ]
    },
    {
      "cell_type": "code",
      "execution_count": null,
      "metadata": {
        "id": "xMKsbqaE7dYa"
      },
      "outputs": [],
      "source": [
        "pic2 = cv2.absdiff(pic, (255, 255, 255,0)) # 類似負片效果, absdiff採用絕對值相減\n",
        "cv2_imshow(pic2)\n",
        "\n",
        "# pic3 = cv2.add(pic,(255, 255, 255, 0)) # 變成全白, add效果往上加, 超過255, 以255論\n",
        "# cv2_imshow(pic3)\n",
        "\n",
        "# pic4 = cv2.subtract(pic,(0, 0, 255, 0)) # 變成全(藍+綠), subtract效果往下減, 低於0, 以0論\n",
        "# cv2_imshow(pic4)\n",
        "\n",
        "# pic5 = cv2.subtract(pic, (255, 255, 255, 0)) # 變成全黑, subtract效果往下減, 低於0, 以0論\n",
        "# cv2_imshow(pic5)\n",
        "\n",
        "# m2 = np.full(pic.shape, (200, 200, 100), np.uint8) # pic.shape是取得 pic 的尺寸, 但沒有圖片\n",
        "# cv2_imshow(m2)"
      ]
    },
    {
      "cell_type": "code",
      "execution_count": null,
      "metadata": {
        "id": "tW2xNLtz6KZe"
      },
      "outputs": [],
      "source": [
        "pic_divide = cv2.divide(pic, (25, 25, 25, 0)) # divide 會做四捨五入, 故 no 浮點數, 非進行顏色變化用, 多用於壓縮檔案\n",
        "cv2_imshow(pic_divide)\n",
        "\n",
        "pic_multiply = cv2.multiply(pic, (25, 25, 25, 0)) # multiply 非進行顏色變化用, 多用於還原檔案\n",
        "cv2_imshow(pic_multiply)\n",
        "\n",
        "# 先 divide 後, 再 multiply, 易出現色彩減化的情況, 可理解為色彩連續性不佳, 因 divide 會進行四捨五入的動作"
      ]
    },
    {
      "cell_type": "code",
      "execution_count": null,
      "metadata": {
        "id": "ANbzNCCE7iWq"
      },
      "outputs": [],
      "source": [
        "pic_bitwise_not = cv2.bitwise_not(pic) # bitwise 為以二進位方式進行處理, not 則是以相反方式進行處理, 簡易理解為0 -> 1, 1 -> 0的方式進行處理, 故變成負片效果\n",
        "cv2_imshow(pic_bitwise_not)"
      ]
    },
    {
      "cell_type": "code",
      "execution_count": null,
      "metadata": {
        "id": "o9OgQK0Y9VZK"
      },
      "outputs": [],
      "source": [
        "\" numpy矩陣 圖片顏色計算 \" # 「低於」或「超過」將會從另一端繼續計算\n",
        "# 若要呈現效果, 大多不會用這種計算方式, 除了只要計算位置, 無須呈現效果方適合用這種結果\n",
        "pic_numpy_add = pic + 150\n",
        "cv2_imshow(pic_numpy_add)\n",
        "\n",
        "pic_numpy_subtract = pic_numpy_add - 150\n",
        "cv2_imshow(pic_numpy_subtract)"
      ]
    },
    {
      "cell_type": "code",
      "execution_count": null,
      "metadata": {
        "id": "v8GROamD-mKh"
      },
      "outputs": [],
      "source": [
        "\" 圖片縮放 \"\n",
        "# 若需等比例縮放, 可先以圖片寬/圖片長取得長寬比, 再以此進行縮放大小\n",
        "w =2000 # 若以下方計算方式, 可隨意設計此數, 皆會以等比例縮放\n",
        "h = int(pic.shape[1] / (pic.shape[0]/w)) # 設 h 為高, w 為寬, 依同長寬比計算, h * 圖長 = w * 圖高\n",
        "# 須注意: 除法會有浮點數, 需轉換為整數, 任意方式皆可\n",
        "pic_resize = cv2.resize(pic, (w, h)) # 以(寬, 高)進行縮小放大\n",
        "cv2_imshow(pic_resize)\n",
        "\n",
        "\" 圖片翻轉 \"\n",
        "# pic_flip = cv2.flip(pic, 0) # 1 -> 左右 , 0 -> 上下 , -1 -> 上下左右\n",
        "# cv2_imshow(pic_flip)"
      ]
    },
    {
      "cell_type": "code",
      "source": [
        "\" 圖像旋轉 \"\n",
        "# 結果圖像=cv2.warpAffine(圖像變數, 變換矩陣, 輸出的圖像大小)\n",
        "# 結果圖像=cv2.warpAffine(pic, cv2.getRotationMatrix2D(旋轉中心, 角度, 縮放比率), Tuple類型：(寬, 高))\n",
        "cx = int(pic.shape[1]/2)\n",
        "cy = int(pic.shape[0]/2)\n",
        "pic_turn_round = cv2.warpAffine(pic, cv2.getRotationMatrix2D((cx, cy), 45, 0.5), (pic.shape[1],pic.shape[0]))\n",
        "cv2_imshow(pic_turn_round)"
      ],
      "metadata": {
        "id": "z4lDv8l_J_x9"
      },
      "execution_count": null,
      "outputs": []
    },
    {
      "cell_type": "code",
      "execution_count": null,
      "metadata": {
        "id": "DqfuyuayA2i5"
      },
      "outputs": [],
      "source": [
        "print(pic.shape[0], pic.shape[1])\n",
        "cv2_imshow(pic1[120:500, 200:920])\n",
        "print(pic1[120:500, 200:920].mean())\n",
        "cv2_imshow(pic1)\n"
      ]
    }
  ],
  "metadata": {
    "colab": {
      "provenance": [],
      "authorship_tag": "ABX9TyPvwVGqd4xqJ4dCdall4IIQ",
      "include_colab_link": true
    },
    "kernelspec": {
      "display_name": "Python 3",
      "name": "python3"
    },
    "language_info": {
      "name": "python"
    }
  },
  "nbformat": 4,
  "nbformat_minor": 0
}