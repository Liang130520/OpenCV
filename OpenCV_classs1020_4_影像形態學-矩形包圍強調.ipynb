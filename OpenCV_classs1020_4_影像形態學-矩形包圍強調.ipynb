{
  "nbformat": 4,
  "nbformat_minor": 0,
  "metadata": {
    "colab": {
      "provenance": [],
      "authorship_tag": "ABX9TyMBkR2ZxnGjVxW7S00TJtfW",
      "include_colab_link": true
    },
    "kernelspec": {
      "name": "python3",
      "display_name": "Python 3"
    },
    "language_info": {
      "name": "python"
    }
  },
  "cells": [
    {
      "cell_type": "markdown",
      "metadata": {
        "id": "view-in-github",
        "colab_type": "text"
      },
      "source": [
        "<a href=\"https://colab.research.google.com/github/Liang130520/OpenCV/blob/main/OpenCV_classs1020_4_%E5%BD%B1%E5%83%8F%E5%BD%A2%E6%85%8B%E5%AD%B8-%E7%9F%A9%E5%BD%A2%E5%8C%85%E5%9C%8D%E5%BC%B7%E8%AA%BF.ipynb\" target=\"_parent\"><img src=\"https://colab.research.google.com/assets/colab-badge.svg\" alt=\"Open In Colab\"/></a>"
      ]
    },
    {
      "cell_type": "code",
      "execution_count": null,
      "metadata": {
        "id": "-V6CqvPy8FWh"
      },
      "outputs": [],
      "source": [
        "\" 影像形態學 \"\n",
        "\n",
        "\" 侵蝕 \" # 色彩值低的會侵蝕色彩值高的  ex,黑色加粗 \n",
        "# 結果圖像=cv2.erode(圖像變數, 結構陣列)\n",
        "import cv2\n",
        "from google.colab.patches import cv2_imshow\n",
        "import numpy as np\n",
        "import IPython.display as dp\n",
        "\n",
        "pic = cv2.imread(\"blockchain.jpg\", -1)\n",
        "# pic = cv2.imread(\"blockchain.jpg\", -1)\n",
        "pic_erode = pic.copy()\n",
        "pic_erode = cv2.erode(pic, np.ones((10, 10)))\n",
        "# cv2_imshow(pic)\n",
        "# cv2_imshow(pic_erode)\n",
        "\n",
        "\" 膨脹 \" # 色彩值高的會侵蝕色彩值低的 # 去雜訊\n",
        "# 結果圖像=cv2.dilate(圖像變數, 結構陣列\n",
        "import cv2\n",
        "from google.colab.patches import cv2_imshow\n",
        "import numpy as np\n",
        "import IPython.display as dp\n",
        "pic = cv2.imread(\"blockchain.jpg\", -1)\n",
        "# pic = cv2.imread(\"blockchain.jpg\", -1)\n",
        "pic_dilate = pic.copy()\n",
        "pic_dilate = cv2.dilate(pic, np.ones((10, 10)))\n",
        "# cv2_imshow(pic)\n",
        "# cv2_imshow(pic_dilate)\n",
        "\n",
        "\" 侵蝕 + 膨脹 \"\n",
        "# 結果圖像=cv2.morphologyEx(圖像變數, 方法, 結構陣列)\n",
        "# 方法:cv2.MORPH_OPEN：先執行侵蝕後執行膨脹\n",
        "# 方法:cv2.MORPH_CLOSE：先執行膨脹後執行侵蝕\n",
        "# 方法:cv2.MORPH_GRADIENT：執行膨脹與侵蝕產生的變化差\n",
        "import cv2\n",
        "from google.colab.patches import cv2_imshow\n",
        "import numpy as np\n",
        "import IPython.display as dp\n",
        "pic = cv2.imread(\"blockchain.jpg\", -1)\n",
        "# pic = cv2.imread(\"blockchain.jpg\", -1)\n",
        "\n",
        "# 先侵蝕再膨脹\n",
        "pic_MORPH_OPEN = pic.copy()\n",
        "pic_MORPH_OPEN = cv2.morphologyEx(pic, cv2.MORPH_OPEN, np.ones((5, 5)))\n",
        "# cv2_imshow(pic)\n",
        "cv2_imshow(pic_MORPH_OPEN)\n",
        "\n",
        "# 先膨脹再侵蝕\n",
        "pic_MORPH_CLOSE = pic.copy()\n",
        "pic_MORPH_CLOSE = cv2.morphologyEx(pic, cv2.MORPH_CLOSE, np.ones((3, 3)))\n",
        "# cv2_imshow(pic)\n",
        "cv2_imshow(pic_MORPH_CLOSE)\n",
        "\n",
        "# 膨脹與侵蝕之間的變化差\n",
        "pic_MORPH_GRADIENT = pic.copy()\n",
        "pic_MORPH_GRADIENT = cv2.morphologyEx(pic, cv2.MORPH_GRADIENT, np.ones((6, 6)))\n",
        "# cv2_imshow(pic)\n",
        "cv2_imshow(pic_MORPH_GRADIENT)"
      ]
    },
    {
      "cell_type": "code",
      "source": [
        "\" 色彩篩選 \" # 判斷圖像裡的各項素是否在指定色彩範圍內\n",
        "\n",
        "import cv2\n",
        "from google.colab.patches import cv2_imshow\n",
        "import numpy as np\n",
        "import IPython.display as dp\n",
        "\n",
        "pic = cv2.imread(\"blockchain.jpg\", -1)\n",
        "pic_inRange = pic.copy()\n",
        "\n",
        "# 結果圖像=cv2.inRange(圖像變數, 顏色下限, 顏色上限)\n",
        "pic_inRange = cv2.inRange(pic, (0, 0, 0), (30, 30, 30)) # 選取要抓取的顏色值, 並在上下限各留數值10顯示\n",
        "# cv2_imshow(pic)\n",
        "cv2_imshow(pic_inRange)"
      ],
      "metadata": {
        "id": "bpidfNZCB03D"
      },
      "execution_count": null,
      "outputs": []
    },
    {
      "cell_type": "code",
      "source": [
        "\" 取得輪廓 \" # 判斷圖像裡的各項素是否在指定色彩範圍內\n",
        "# 輪廓點, 輪廓階層資料=cv2.findContours(圖像變數(灰階圖像),類型,方法)\n",
        "# 輪廓點 : 是個多維陣列，第一維指向不同的輪廓，第二維指向該輪廓對應的所有輪廓點\n",
        "# 輪廓階層資料 : 是個多維陣列，用來記錄各個輪廓的關係，第二維指向各個輪廓，第三維會有四個值，紀錄輪廓的索引（如果為-1代表沒有），分別代表：1. 相鄰的下一個輪廓2. 相鄰的上一個輪廓3. 被其包覆的第一個輪廓4. 包覆他的輪廓\n",
        "# 類型 -> cv2.RETR_EXTERNAL：只儲存最外層的輪廓\n",
        "#      -> cv2.RETR_LIST：儲存所有輪廓，但不建立階層資料\n",
        "#      -> cv2.RETR_CCOMP：儲存所有輪廓，但階層資料只包留兩層，# 首階層為物件外圍，第二階層為內部空心部分的輪廓，如果更內部有其餘物件，包含於首階層\n",
        "#      -> cv2.RETR_TREE：儲存所有輪廓與其對應的階層資料\n",
        "# 方法 -> cv2.CHAIN_APPROX_NONE：儲存所有輪廓點\n",
        "#      -> cv2.CHAIN_APPROX_SIMPLE：簡化輪廓點，一條線只儲存頭尾\n",
        "import cv2\n",
        "from google.colab.patches import cv2_imshow\n",
        "import numpy as np\n",
        "import IPython.display as dp\n",
        "\n",
        "pic = cv2.imread(\"blockchain.jpg\", -1)\n",
        "pic_findContours = pic.copy()\n",
        "# 輪廓點, 輪廓階層資料=cv2.findContours(圖像變數(須為灰階圖像),類型,方法)\n",
        "p, t = cv2.findContours(pic_inRange,cv2.RETR_TREE,cv2.CHAIN_APPROX_NONE)\n",
        "# cv2_imshow(pic)\n",
        "print(len(p))\n",
        "print(t)\n",
        "# cv2_imshow(pic_inRange)\n",
        "\n",
        "\" 繪製輪廓 \"\n",
        "# 要繪製的輪廓索引：從0-len(p)-1的所有值, 如果為「-1」代表繪製全部\n",
        "import cv2\n",
        "from google.colab.patches import cv2_imshow\n",
        "import numpy as np\n",
        "import IPython.display as dp\n",
        "\n",
        "#  繪製輪廓：cv2.drawContours(圖像變數,存取全部輪廓的變數,要繪製的輪廓索引,顏色,粗細)\n",
        "pic_drawContours = cv2.drawContours(pic, p, 240, (0, 0, 255), 2)\n",
        "cv2_imshow(pic_drawContours)"
      ],
      "metadata": {
        "id": "7oFli7SEENHe"
      },
      "execution_count": null,
      "outputs": []
    },
    {
      "cell_type": "code",
      "source": [
        "\" 以矩形包圍強調 \"\n",
        "# 取得包覆指定輪廓點的最小正矩形：X座標, Y座標, 寬度, 高度 =cv2.boundingRect(指定的輪廓)\n",
        "for i in range(0, len(p), 1):\n",
        "  x, y, w, h = cv2.boundingRect(p[i])\n",
        "  cv2.rectangle(pic, (x,y), (x+w, y+h), (0, 0, 255), 2)\n",
        "cv2_imshow(pic)"
      ],
      "metadata": {
        "id": "uQ8jpTJ5KE2d"
      },
      "execution_count": null,
      "outputs": []
    }
  ]
}