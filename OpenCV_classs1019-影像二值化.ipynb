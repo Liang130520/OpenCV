{
  "cells": [
    {
      "cell_type": "markdown",
      "metadata": {
        "id": "view-in-github",
        "colab_type": "text"
      },
      "source": [
        "<a href=\"https://colab.research.google.com/github/Liang130520/OpenCV-class1019/blob/main/OpenCV_classs1019-%E5%BD%B1%E5%83%8F%E4%BA%8C%E5%80%BC%E5%8C%96.ipynb\" target=\"_parent\"><img src=\"https://colab.research.google.com/assets/colab-badge.svg\" alt=\"Open In Colab\"/></a>"
      ]
    },
    {
      "cell_type": "code",
      "execution_count": null,
      "metadata": {
        "id": "pIuY-u_tuQBN"
      },
      "outputs": [],
      "source": [
        "# \" 作業二 \"\n",
        "# import cv2\n",
        "# import numpy as np\n",
        "# import IPython.display as dp\n",
        "# from google.colab.patches import cv2_imshow\n",
        "# from PIL import ImageFont, ImageDraw, Image\n",
        "# import time\n",
        "\n",
        "# pic = cv2.imread(\"h2.png\", -1)\n",
        "# print(pic.shape[0]) # 612\n",
        "# print(pic.shape[1]) # 1087\n",
        "\n",
        "# pic_multiply = cv2.multiply(pic, (40, 40, 2, 0)) # multiply 非進行顏色變化用, 多用於還原檔案\n",
        "# pic_word = pic_multiply[:,:,1]\n",
        "# cv2_imshow(pic_multiply[120:500,200:920,1])\n",
        "# pic_white = np.full((612, 1087, 3), (255, 255, 255), np.uint8)\n",
        "# pic_white = pic_white[:, :, 1]\n",
        "# pic_white[120:500, 200:920] = pic_word[120:500,200:920]\n",
        "# cv2_imshow(pic_white)\n"
      ]
    },
    {
      "cell_type": "code",
      "execution_count": null,
      "metadata": {
        "id": "xMKsbqaE7dYa"
      },
      "outputs": [],
      "source": [
        "# pic1 = cv2.add(pic, (255,220,255,0)) # 第四維度:透明度通常用不到\n",
        "# pic2 = cv2.absdiff(pic, (255, 255, 255,0)) # 類似負片效果, absdiff採用絕對值相減\n",
        "# cv2_imshow(pic2)\n",
        "\n",
        "# pic3 = cv2.add(pic,(255, 255, 255, 0)) # 變成全白, add效果往上加, 超過255, 以255論\n",
        "# cv2_imshow(pic3)\n",
        "\n",
        "# pic4 = cv2.subtract(pic,(0, 0, 255, 0)) # 變成全(藍+綠), subtract效果往下減, 低於0, 以0論\n",
        "# cv2_imshow(pic4)\n",
        "\n",
        "# pic5 = cv2.subtract(pic, (255, 255, 255, 0)) # 變成全黑, subtract效果往下減, 低於0, 以0論\n",
        "# cv2_imshow(pic5)\n",
        "\n",
        "# m2 = np.full(pic.shape, (200, 200, 100), np.uint8) # pic.shape是取得 pic 的尺寸, 但沒有圖片\n",
        "# cv2_imshow(m2)"
      ]
    },
    {
      "cell_type": "code",
      "execution_count": null,
      "metadata": {
        "id": "tW2xNLtz6KZe"
      },
      "outputs": [],
      "source": [
        "# pic_divide = cv2.divide(pic, (25, 25, 25, 0)) # divide 會做四捨五入, 故 no 浮點數, 非進行顏色變化用, 多用於壓縮檔案\n",
        "# cv2_imshow(pic_divide)\n",
        "\n",
        "# pic_multiply = cv2.multiply(pic, (100, 100, 100, 0)) # multiply 非進行顏色變化用, 多用於還原檔案\n",
        "# cv2_imshow(pic_multiply[120:500,200:920,1])\n",
        "\n",
        "\n",
        "# pic_divide[25:425, 50:350] = pic_multiply[100:500, 500:800]\n",
        "# cv2_imshow(pic_divide)\n",
        "# # 先 divide 後, 再 multiply, 易出現色彩減化的情況, 可理解為色彩連續性不佳, 因 divide 會進行四捨五入的動作"
      ]
    },
    {
      "cell_type": "code",
      "execution_count": null,
      "metadata": {
        "id": "ANbzNCCE7iWq"
      },
      "outputs": [],
      "source": [
        "# pic_bitwise_not = cv2.bitwise_not(pic) # bitwise 為以二進位方式進行處理, not 則是以相反方式進行處理, 簡易理解為0 -> 1, 1 -> 0的方式進行處理, 故變成負片效果\n",
        "# cv2_imshow(pic_bitwise_not)"
      ]
    },
    {
      "cell_type": "code",
      "execution_count": null,
      "metadata": {
        "id": "o9OgQK0Y9VZK"
      },
      "outputs": [],
      "source": [
        "# \" numpy矩陣 圖片顏色計算 \" # 「低於」或「超過」將會從另一端繼續計算\n",
        "# # 若要呈現效果, 大多不會用這種計算方式, 除了只要計算位置, 無須呈現效果方適合用這種結果\n",
        "# pic_numpy_add = pic + 150\n",
        "# cv2_imshow(pic_numpy_add)\n",
        "\n",
        "# pic_numpy_subtract = pic_numpy_add - 150\n",
        "# cv2_imshow(pic_numpy_subtract)"
      ]
    },
    {
      "cell_type": "code",
      "execution_count": null,
      "metadata": {
        "id": "v8GROamD-mKh"
      },
      "outputs": [],
      "source": [
        "# \" 圖片縮放 \"\n",
        "# # 若需等比例縮放, 可先以圖片寬/圖片長取得長寬比, 再以此進行縮放大小\n",
        "# w =2000 # 若以下方計算方式, 可隨意設計此數, 皆會以等比例縮放\n",
        "# h = int(pic.shape[1] / (pic.shape[0]/w)) # 設 h 為高, w 為寬, 依同長寬比計算, h * 圖長 = w * 圖高\n",
        "# # 須注意: 除法會有浮點數, 需轉換為整數, 任意方式皆可\n",
        "# pic_resize = cv2.resize(pic, (w, h)) # 以(寬, 高)進行縮小放大\n",
        "# cv2_imshow(pic_resize)\n",
        "\n",
        "# \" 圖片翻轉 \"\n",
        "# pic_flip = cv2.flip(pic, 0) # 1 -> 左右 , 0 -> 上下 , -1 -> 上下左右\n",
        "# cv2_imshow(pic_flip)"
      ]
    },
    {
      "cell_type": "code",
      "source": [
        "# \" 圖像旋轉 \"\n",
        "# # 結果圖像=cv2.warpAffine(圖像變數, 變換矩陣, 輸出的圖像大小)\n",
        "# # 結果圖像=cv2.warpAffine(pic, cv2.getRotationMatrix2D(旋轉中心, 角度, 縮放比率), Tuple類型：(寬, 高))\n",
        "# cx = int(pic.shape[1]/2)\n",
        "# cy = int(pic.shape[0]/2)\n",
        "# pic_turn_round = cv2.warpAffine(pic, cv2.getRotationMatrix2D((cx, cy), 45, 0.5), (pic.shape[1],pic.shape[0]))\n",
        "# cv2_imshow(pic_turn_round)"
      ],
      "metadata": {
        "id": "6HEjU44QUSLp"
      },
      "execution_count": null,
      "outputs": []
    },
    {
      "cell_type": "code",
      "execution_count": null,
      "metadata": {
        "id": "DqfuyuayA2i5"
      },
      "outputs": [],
      "source": [
        "# print(pic.shape[0], pic.shape[1])\n",
        "# cv2_imshow(pic1[120:500, 200:920])\n",
        "# cv2_imshow(pic[:,500:])\n",
        "# cv2_imshow(pic[:,:,1]) # 0,1,2為BGR順序, 僅為取得該顏色係數, 且以似灰階呈現 \n",
        "# cv2_imshow(pic1)\n",
        "# pic[50:450:2, 100:300:2] = pic2[100:500:2, 600:800:2] # 以網格狀插入其中\n",
        "# cv2_imshow(pic)\n"
      ]
    },
    {
      "cell_type": "code",
      "source": [
        "# \" 白平衡 \"\n",
        "# # 白平衡的計算公式：\n",
        "# # R × (𝑅𝑎𝑣𝑔+𝐺𝑎𝑣𝑔+𝐵𝑎𝑣𝑔/(3 × 𝑅𝑎𝑣𝑔))\n",
        "# # G × (𝑅𝑎𝑣𝑔+𝐺𝑎𝑣𝑔+𝐵𝑎𝑣𝑔/(3 × G𝑎𝑣𝑔))\n",
        "# # B × (𝑅𝑎𝑣𝑔+𝐺𝑎𝑣𝑔+𝐵𝑎𝑣𝑔/(3 × B𝑎𝑣𝑔))\n",
        "\n",
        "# # 取平均：圖像變數.mean()\n",
        "# Bavg = pic[:,:,0].mean()\n",
        "# Gavg = pic[:,:,1].mean()\n",
        "# Ravg = pic[:,:,2].mean()\n",
        "\n",
        "# # 取平均總和\n",
        "# ColorAvg = Bavg + Gavg + Ravg\n",
        "\n",
        "# # 處理白平衡\n",
        "# pic_balance = pic.copy()\n",
        "# pic_balance[:,:,0] = cv2.multiply(pic[:,:,0],(ColorAvg/(Bavg*3)))\n",
        "# pic_balance[:,:,1] = cv2.multiply(pic[:,:,1],(ColorAvg/(Gavg*3)))\n",
        "# pic_balance[:,:,2] = cv2.multiply(pic[:,:,2],(ColorAvg/(Ravg*3)))\n",
        "\n",
        "# cv2_imshow(pic)\n",
        "# cv2_imshow(pic_balance)"
      ],
      "metadata": {
        "id": "uyW9Kv24wIFO"
      },
      "execution_count": null,
      "outputs": []
    },
    {
      "cell_type": "code",
      "source": [
        "\" 影像二值化 \"\n",
        "\n",
        "\"THRESH_BINARY\"\n",
        "# 這個是切一刀分兩半的作法\n",
        "# 變數一, 變數二=cv2.threshold(圖像變數, 門檻值, 最大值, 方法)\n",
        "import cv2\n",
        "import numpy as np\n",
        "import IPython.display as dp\n",
        "from google.colab.patches import cv2_imshow\n",
        "from PIL import ImageFont, ImageDraw, Image\n",
        "import time\n",
        "\n",
        "pic = cv2.imread(\"h2.png\", -1)\n",
        "# pic = cv2.imread(\"games-1459575_640.png\", -1)\n",
        "# pic = cv2.imread(\"blockchain.jpg\", -1)\n",
        "# pic = cv2.imread(\"parrots-4245229_640.png\", -1)\n",
        "# pic = cv2.imread(\"relaxing-5989564_640.png\", -1)\n",
        "# pic = cv2.imread(\"starbucks-5096069_1280.png\", -1)\n",
        "\n",
        "pic1 = pic.copy()\n",
        "th, pic1[:, :, 0] = cv2.threshold(pic[:, :, 0], 120, 255, cv2.THRESH_BINARY|cv2.THRESH_OTSU)\n",
        "print(th)\n",
        "th, pic1[:, :, 1] = cv2.threshold(pic[:, :, 1], 120, 255, cv2.THRESH_BINARY|cv2.THRESH_OTSU)\n",
        "print(th)\n",
        "th, pic1[:, :, 2] = cv2.threshold(pic[:, :, 2], 120, 255, cv2.THRESH_BINARY|cv2.THRESH_OTSU)\n",
        "print(th)\n",
        "\n",
        "# cv2_imshow(pic)\n",
        "cv2_imshow(pic1)\n",
        "print(pic1)\n",
        "\n"
      ],
      "metadata": {
        "id": "pzFgDWJVGvlg"
      },
      "execution_count": null,
      "outputs": []
    },
    {
      "cell_type": "code",
      "source": [
        "\" 影像二值化 \"\n",
        "\n",
        "\" adaptiveThreshold \"\n",
        "# 整張圖切成眾多小區塊, 分別進行計算\n",
        "\n",
        "import cv2\n",
        "import numpy as np\n",
        "import IPython.display as dp\n",
        "from google.colab.patches import cv2_imshow\n",
        "from PIL import ImageFont, ImageDraw, Image\n",
        "import time\n",
        "\n",
        "# pic = cv2.imread(\"h2.png\", -1)\n",
        "pic = cv2.imread(\"games-1459575_640.png\", -1)\n",
        "# pic = cv2.imread(\"blockchain.jpg\", -1)\n",
        "# pic = cv2.imread(\"parrots-4245229_640.png\", -1)\n",
        "# pic = cv2.imread(\"relaxing-5989564_640.png\", -1)\n",
        "# pic = cv2.imread(\"starbucks-5096069_1280.png\", -1)\n",
        "\n",
        "pic1 = pic.copy()\n",
        "\n",
        "# 結果圖像=cv2.adaptiveThreshold(圖像變數,最大值,方法一,方法二,區塊大小,微調值) \n",
        "# 區塊大小只接受單數(因可取中數為中心點)\n",
        "pic1[:, :, 0]=cv2.adaptiveThreshold(pic[:, :, 0], 255,cv2.ADAPTIVE_THRESH_MEAN_C,cv2.THRESH_BINARY,555,50)\n",
        "pic1[:, :, 1]=cv2.adaptiveThreshold(pic[:, :, 1], 255,cv2.ADAPTIVE_THRESH_MEAN_C,cv2.THRESH_BINARY,555,50)\n",
        "pic1[:, :, 2]=cv2.adaptiveThreshold(pic[:, :, 2], 255,cv2.ADAPTIVE_THRESH_MEAN_C,cv2.THRESH_BINARY,555,50)\n",
        "cv2_imshow(pic1)\n",
        "print(pic1)"
      ],
      "metadata": {
        "id": "jf0VXwjoO08Q"
      },
      "execution_count": null,
      "outputs": []
    }
  ],
  "metadata": {
    "colab": {
      "provenance": [],
      "authorship_tag": "ABX9TyOimFfwJ8SJUtGZmGGwmWPp",
      "include_colab_link": true
    },
    "kernelspec": {
      "display_name": "Python 3",
      "name": "python3"
    },
    "language_info": {
      "name": "python"
    }
  },
  "nbformat": 4,
  "nbformat_minor": 0
}